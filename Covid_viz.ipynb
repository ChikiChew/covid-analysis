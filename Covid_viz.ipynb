{
 "cells": [
  {
   "cell_type": "markdown",
   "id": "c454f8b6-2919-4a82-ad58-45fbc6f6697e",
   "metadata": {},
   "source": [
    "## Dashboard created with Tableau\n",
    "\n",
    "Link to dashboard can be found [here](https://public.tableau.com/app/profile/jeanique.rahmlow/viz/Covid-19Dashboard_16424960178190/Dashboard1#1)\n",
    "![dashboard](Images\\Tableau_Dashboard.jpg)"
   ]
  },
  {
   "cell_type": "code",
   "execution_count": null,
   "id": "86857948-7bf3-4d22-adf9-2b2f8204b36c",
   "metadata": {},
   "outputs": [],
   "source": []
  }
 ],
 "metadata": {
  "kernelspec": {
   "display_name": "Python 3 (ipykernel)",
   "language": "python",
   "name": "python3"
  },
  "language_info": {
   "codemirror_mode": {
    "name": "ipython",
    "version": 3
   },
   "file_extension": ".py",
   "mimetype": "text/x-python",
   "name": "python",
   "nbconvert_exporter": "python",
   "pygments_lexer": "ipython3",
   "version": "3.9.7"
  }
 },
 "nbformat": 4,
 "nbformat_minor": 5
}
